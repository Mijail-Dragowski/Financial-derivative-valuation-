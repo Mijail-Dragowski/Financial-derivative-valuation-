{
 "cells": [
  {
   "cell_type": "markdown",
   "id": "ee1a83de",
   "metadata": {},
   "source": [
    "# <center>Financial derivative valuation project </center>\n",
    "### **<center> Value of a call option using the black scholes formula  </center>**\n",
    "\n",
    "### **<center>Mijail Dragowski</center>**\n",
    "### **<center>2023</center>**"
   ]
  },
  {
   "cell_type": "markdown",
   "id": "63c486be",
   "metadata": {},
   "source": [
    "## Import the necessary libraries\n"
   ]
  },
  {
   "cell_type": "code",
   "execution_count": 1,
   "id": "6c2cb838",
   "metadata": {},
   "outputs": [],
   "source": [
    "import yfinance as yf\n",
    "\n",
    "import pandas as pd\n",
    "from scipy.stats import norm\n",
    "import numpy as np\n",
    "import matplotlib.pyplot as plt\n",
    "%matplotlib inline\n"
   ]
  },
  {
   "cell_type": "markdown",
   "id": "940454c5",
   "metadata": {},
   "source": [
    "## load the Stock  data\n"
   ]
  },
  {
   "cell_type": "code",
   "execution_count": 2,
   "id": "20a91f7b",
   "metadata": {},
   "outputs": [
    {
     "name": "stdout",
     "output_type": "stream",
     "text": [
      "[*********************100%***********************]  1 of 1 completed\n"
     ]
    },
    {
     "data": {
      "text/html": [
       "<div>\n",
       "<style scoped>\n",
       "    .dataframe tbody tr th:only-of-type {\n",
       "        vertical-align: middle;\n",
       "    }\n",
       "\n",
       "    .dataframe tbody tr th {\n",
       "        vertical-align: top;\n",
       "    }\n",
       "\n",
       "    .dataframe thead th {\n",
       "        text-align: right;\n",
       "    }\n",
       "</style>\n",
       "<table border=\"1\" class=\"dataframe\">\n",
       "  <thead>\n",
       "    <tr style=\"text-align: right;\">\n",
       "      <th></th>\n",
       "      <th>MCD</th>\n",
       "    </tr>\n",
       "    <tr>\n",
       "      <th>Date</th>\n",
       "      <th></th>\n",
       "    </tr>\n",
       "  </thead>\n",
       "  <tbody>\n",
       "    <tr>\n",
       "      <th>2023-02-28</th>\n",
       "      <td>263.910004</td>\n",
       "    </tr>\n",
       "    <tr>\n",
       "      <th>2023-03-01</th>\n",
       "      <td>262.720001</td>\n",
       "    </tr>\n",
       "    <tr>\n",
       "      <th>2023-03-02</th>\n",
       "      <td>267.570007</td>\n",
       "    </tr>\n",
       "    <tr>\n",
       "      <th>2023-03-03</th>\n",
       "      <td>269.070007</td>\n",
       "    </tr>\n",
       "    <tr>\n",
       "      <th>2023-03-06</th>\n",
       "      <td>270.640015</td>\n",
       "    </tr>\n",
       "  </tbody>\n",
       "</table>\n",
       "</div>"
      ],
      "text/plain": [
       "                   MCD\n",
       "Date                  \n",
       "2023-02-28  263.910004\n",
       "2023-03-01  262.720001\n",
       "2023-03-02  267.570007\n",
       "2023-03-03  269.070007\n",
       "2023-03-06  270.640015"
      ]
     },
     "execution_count": 2,
     "metadata": {},
     "output_type": "execute_result"
    }
   ],
   "source": [
    "MCDonalds=yf.download(\"MCD\", start= \"2013-01-01\", end= \"2023-3-7\")[\"Adj Close\"]\n",
    "MCDonalds=pd.DataFrame(MCDonalds)\n",
    "MCDonalds = MCDonalds.rename(columns={'Adj Close': \"MCD\"})\n",
    "MCDonalds.tail()"
   ]
  },
  {
   "cell_type": "markdown",
   "id": "1d7e8513",
   "metadata": {},
   "source": [
    "## Black scholes formula\n",
    "(for more details check the pdf with more theoretical information)"
   ]
  },
  {
   "cell_type": "markdown",
   "id": "2f3453d2",
   "metadata": {},
   "source": [
    "$$\n",
    "\\textbf{C} = SN(d_1) - Ke^{-rt}N(d_2) \n",
    "$$\n",
    "\n",
    "Where: \n",
    "\n",
    "$$\n",
    "d_1 = \\frac{\\ln(\\frac{S}{K}) + (r + \\frac{stdev^2}{2})t}{s \\cdot \\sqrt{t}}\n",
    "$$\n",
    "\n",
    "$$\n",
    "d_2 = d_1 - s \\cdot \\sqrt{t} = \\frac{\\ln(\\frac{S}{K}) + (r - \\frac{stdev^2}{2})t}{s \\cdot \\sqrt{t}}\n",
    "$$"
   ]
  },
  {
   "cell_type": "markdown",
   "id": "cce9cce4",
   "metadata": {},
   "source": [
    "## Formula programming\n"
   ]
  },
  {
   "cell_type": "code",
   "execution_count": 3,
   "id": "47a8fe40",
   "metadata": {},
   "outputs": [],
   "source": [
    "def d1(S, K, r, stdev, T):\n",
    "    return (np.log(S / K) + (r + stdev ** 2 / 2) * T) / (stdev * np.sqrt(T))\n",
    " \n",
    "def d2(S, K, r, stdev, T):\n",
    "    return (np.log(S / K) + (r - stdev ** 2 / 2) * T) / (stdev * np.sqrt(T))\n",
    "\n",
    "def BS(S, K, r, stdev, T):\n",
    "        return (S * norm.cdf(d1(S, K, r, stdev, T))) - (K * np.exp(-r * T) * norm.cdf(d2(S, K, r, stdev, T)))"
   ]
  },
  {
   "cell_type": "markdown",
   "id": "e78ad16b",
   "metadata": {},
   "source": [
    "## McDonald's Daily Stock Return Calculation\n"
   ]
  },
  {
   "cell_type": "code",
   "execution_count": 4,
   "id": "9339ac7c",
   "metadata": {},
   "outputs": [
    {
     "data": {
      "text/html": [
       "<div>\n",
       "<style scoped>\n",
       "    .dataframe tbody tr th:only-of-type {\n",
       "        vertical-align: middle;\n",
       "    }\n",
       "\n",
       "    .dataframe tbody tr th {\n",
       "        vertical-align: top;\n",
       "    }\n",
       "\n",
       "    .dataframe thead th {\n",
       "        text-align: right;\n",
       "    }\n",
       "</style>\n",
       "<table border=\"1\" class=\"dataframe\">\n",
       "  <thead>\n",
       "    <tr style=\"text-align: right;\">\n",
       "      <th></th>\n",
       "      <th>MCD</th>\n",
       "    </tr>\n",
       "    <tr>\n",
       "      <th>Date</th>\n",
       "      <th></th>\n",
       "    </tr>\n",
       "  </thead>\n",
       "  <tbody>\n",
       "    <tr>\n",
       "      <th>2013-01-02</th>\n",
       "      <td>NaN</td>\n",
       "    </tr>\n",
       "    <tr>\n",
       "      <th>2013-01-03</th>\n",
       "      <td>0.005660</td>\n",
       "    </tr>\n",
       "    <tr>\n",
       "      <th>2013-01-04</th>\n",
       "      <td>-0.008607</td>\n",
       "    </tr>\n",
       "    <tr>\n",
       "      <th>2013-01-07</th>\n",
       "      <td>0.011797</td>\n",
       "    </tr>\n",
       "    <tr>\n",
       "      <th>2013-01-08</th>\n",
       "      <td>0.000330</td>\n",
       "    </tr>\n",
       "  </tbody>\n",
       "</table>\n",
       "</div>"
      ],
      "text/plain": [
       "                 MCD\n",
       "Date                \n",
       "2013-01-02       NaN\n",
       "2013-01-03  0.005660\n",
       "2013-01-04 -0.008607\n",
       "2013-01-07  0.011797\n",
       "2013-01-08  0.000330"
      ]
     },
     "execution_count": 4,
     "metadata": {},
     "output_type": "execute_result"
    }
   ],
   "source": [
    "Daily_returns = (MCDonalds.pct_change(1))\n",
    "Daily_returns.head()"
   ]
  },
  {
   "cell_type": "markdown",
   "id": "30546118",
   "metadata": {},
   "source": [
    "## McDonald's daily return  standard deviation calculation"
   ]
  },
  {
   "cell_type": "code",
   "execution_count": 5,
   "id": "1ed8ca10",
   "metadata": {},
   "outputs": [
    {
     "data": {
      "text/plain": [
       "MCD    0.198446\n",
       "dtype: float64"
      ]
     },
     "execution_count": 5,
     "metadata": {},
     "output_type": "execute_result"
    }
   ],
   "source": [
    "stdev = Daily_returns.std() * 252 ** 0.5\n",
    "stdev"
   ]
  },
  {
   "cell_type": "markdown",
   "id": "811e47f9",
   "metadata": {},
   "source": [
    "## Create a variable S equal to the last adjusted closing price of McDonald's. "
   ]
  },
  {
   "cell_type": "code",
   "execution_count": 6,
   "id": "f0ee9f10",
   "metadata": {},
   "outputs": [
    {
     "data": {
      "text/plain": [
       "MCD    270.640015\n",
       "Name: 2023-03-06 00:00:00, dtype: float64"
      ]
     },
     "execution_count": 6,
     "metadata": {},
     "output_type": "execute_result"
    }
   ],
   "source": [
    "S = MCDonalds.iloc[-1]\n",
    "S"
   ]
  },
  {
   "cell_type": "markdown",
   "id": "8f21c569",
   "metadata": {},
   "source": [
    "## Set the risk free rate, r, equal to 5.19% (0.0519); the strike price, K, equal to 300; and the time horizon, T, equal to 1 (one year), respectively."
   ]
  },
  {
   "cell_type": "code",
   "execution_count": 7,
   "id": "4680eed9",
   "metadata": {},
   "outputs": [],
   "source": [
    "r = 0.0519\n",
    "K = 300\n",
    "T = 1"
   ]
  },
  {
   "cell_type": "markdown",
   "id": "e6a2ef45",
   "metadata": {},
   "source": [
    "## Call the d1 and d2 functions with the relevant arguments to obtain their values."
   ]
  },
  {
   "cell_type": "code",
   "execution_count": 8,
   "id": "c203a0ac",
   "metadata": {},
   "outputs": [
    {
     "data": {
      "text/plain": [
       "MCD   -0.158241\n",
       "dtype: float64"
      ]
     },
     "execution_count": 8,
     "metadata": {},
     "output_type": "execute_result"
    }
   ],
   "source": [
    "d1(S, K, r, stdev, T)"
   ]
  },
  {
   "cell_type": "code",
   "execution_count": 9,
   "id": "6123b300",
   "metadata": {},
   "outputs": [
    {
     "data": {
      "text/plain": [
       "MCD   -0.356688\n",
       "dtype: float64"
      ]
     },
     "execution_count": 9,
     "metadata": {},
     "output_type": "execute_result"
    }
   ],
   "source": [
    "d2(S, K, r, stdev, T)"
   ]
  },
  {
   "cell_type": "markdown",
   "id": "2032515a",
   "metadata": {},
   "source": [
    "## Use the BS function to estimate the price of a call option, given you know the values of S, K, r, stdev, and T."
   ]
  },
  {
   "cell_type": "code",
   "execution_count": 10,
   "id": "286a89a0",
   "metadata": {},
   "outputs": [
    {
     "data": {
      "text/plain": [
       "MCD    15.579222\n",
       "Name: 2023-03-06 00:00:00, dtype: float64"
      ]
     },
     "execution_count": 10,
     "metadata": {},
     "output_type": "execute_result"
    }
   ],
   "source": [
    "BS(S, K, r, stdev, T)\n"
   ]
  },
  {
   "cell_type": "code",
   "execution_count": null,
   "id": "369769f7",
   "metadata": {},
   "outputs": [],
   "source": []
  }
 ],
 "metadata": {
  "kernelspec": {
   "display_name": "Python 3 (ipykernel)",
   "language": "python",
   "name": "python3"
  },
  "language_info": {
   "codemirror_mode": {
    "name": "ipython",
    "version": 3
   },
   "file_extension": ".py",
   "mimetype": "text/x-python",
   "name": "python",
   "nbconvert_exporter": "python",
   "pygments_lexer": "ipython3",
   "version": "3.9.13"
  }
 },
 "nbformat": 4,
 "nbformat_minor": 5
}
