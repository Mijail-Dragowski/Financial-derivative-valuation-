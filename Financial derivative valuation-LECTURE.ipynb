{
 "cells": [
  {
   "cell_type": "markdown",
   "id": "7e0f1efc",
   "metadata": {},
   "source": [
    "# <center>Financial derivative valuation project </center>\n",
    "### **<center> Value of a call option using the Black Scholes formula  </center>**\n",
    "\n",
    "### **<center>Mijail Dragowski</center>**\n",
    "### **<center>2023</center>**"
   ]
  },
  {
   "cell_type": "markdown",
   "id": "349bf0b0",
   "metadata": {},
   "source": [
    "# Introduccion"
   ]
  },
  {
   "cell_type": "markdown",
   "id": "531fa819",
   "metadata": {},
   "source": [
    "The objective of this project is to carry out the valuation of a financial derivative. The derivative will be a call option of a Mcdonalds stock to be exercised at 1 year. The method that we will use to make the evaluation will be the use of the Black Scholes formula. \n",
    "\n",
    " \n",
    "In **section 1** (Data) the data used  and its source will be explained, in **section 2** (methodology) a detailed theoretical summary of the Black Scholes formula will be given,  in **section 3** (results) the main parameters necessary to use the Black Scholes formula and its main result will be detailed.\n",
    "\n",
    " This project was programmed and developed in the python language,  but for simplicity purposes, this pdf was written and its purpose is to give a summary illustration of what the project is. Those people who are interested in the technical details of programming and coding of data analisis and financial  analysis, can see it at the following link: https://github.com/Mijail-Dragowski/Financial-derivative-valuation-/blob/main/Financial%20derivative%20valuation-CODE.ipynb\n",
    "\n",
    "\n",
    "\n"
   ]
  },
  {
   "cell_type": "markdown",
   "id": "b13bee13",
   "metadata": {},
   "source": [
    "# 1. Data\n"
   ]
  },
  {
   "cell_type": "markdown",
   "id": "4467fdd5",
   "metadata": {},
   "source": [
    "The data used to carry out this project cover the period from 2013-01-01 to 2023-3-7. \n",
    " \n",
    " The company chosen to calculate the  call option value of their  stock is  McDonald's, and from it the adjusted closing price will be used to make all the necessary calculations. This information was extracted from https://finance.yahoo.com/\n",
    " \n",
    " The Black Scholes formula requires the use of a risk free rate. For this project, the return of 12 month US treasury bonds was used, since the call option that we want to value has a maturity time of 1 year. This risk free rate at the time of writing this is 5.19% and was extracted from (https://www.bloomberg.com/markets/rates-bonds/government-bonds/us)\n",
    "\n"
   ]
  },
  {
   "cell_type": "markdown",
   "id": "73423498",
   "metadata": {},
   "source": [
    "# 2. Methodology\n"
   ]
  },
  {
   "cell_type": "markdown",
   "id": "50eeb7ed",
   "metadata": {},
   "source": [
    "\n",
    "\n",
    "The Black-Scholes formula is a mathematical formula used to calculate the theoretical price of European-style call and put options on stocks or other underlying assets. The formula was developed by Fischer Black and Myron Scholes in 1973, and it is widely used by traders, investors, and financial institutions.\n",
    "\n",
    "The Black-Scholes formula takes into account several variables, including the current stock price, the strike price of the option, the time to expiration of the option, the risk-free interest rate, and the volatility of the underlying stock. The formula assumes that the stock price follows a random walk, and that the option can be continuously traded without transaction costs. \n",
    "\n",
    "The formula for the price of a call option is:\n",
    "\n",
    "$$\n",
    "\\textbf{C} = SN(d_1) - Ke^{-rt}N(d_2) \n",
    "$$\n",
    " \n",
    " Where: \n",
    "\n",
    "$$\n",
    "d_1 = \\frac{\\ln(\\frac{S}{K}) + (r + \\frac{stdev^2}{2})t}{s \\cdot \\sqrt{t}}\n",
    "$$\n",
    "\n",
    "$$\n",
    "d_2 = d_1 - s \\cdot \\sqrt{t} = \\frac{\\ln(\\frac{S}{K}) + (r - \\frac{stdev^2}{2})t}{s \\cdot \\sqrt{t}}\n",
    "$$\n",
    " \n",
    " \n",
    "* C is the price of the call option\n",
    "* S is the current stock price\n",
    "* K is the strike price of the option\n",
    "* r is the risk-free interest rate\n",
    "* t is the time to expiration of the option, expressed in years\n",
    "* N() is the cumulative distribution function of the standard normal distribution sigma is the volatility of the underlying stock.\n",
    "* stdev is the standard deviation of the stock return."
   ]
  },
  {
   "cell_type": "markdown",
   "id": "493ecb48",
   "metadata": {},
   "source": [
    "# 3. Results\n"
   ]
  },
  {
   "cell_type": "markdown",
   "id": "fac19495",
   "metadata": {},
   "source": [
    "The parameters found (for more details check the notebook with the code) that will be used in the Black Scholes formula to find the price of the call option are:\n",
    " \n",
    " * Stdev= 0.198446\n",
    " * S = $270.640015\n",
    " * r= 5.19% (0.0519)\n",
    " * K= 300 (assumed value)\n",
    " * t= 1 (one year)\n",
    " \n",
    " The price of the call option found based on these values ​​applied to the Black Scholes formula is:\n",
    " \n",
    " C= $15.579222"
   ]
  }
 ],
 "metadata": {
  "kernelspec": {
   "display_name": "Python 3 (ipykernel)",
   "language": "python",
   "name": "python3"
  },
  "language_info": {
   "codemirror_mode": {
    "name": "ipython",
    "version": 3
   },
   "file_extension": ".py",
   "mimetype": "text/x-python",
   "name": "python",
   "nbconvert_exporter": "python",
   "pygments_lexer": "ipython3",
   "version": "3.9.13"
  }
 },
 "nbformat": 4,
 "nbformat_minor": 5
}
